{
 "cells": [
  {
   "cell_type": "code",
   "execution_count": 8,
   "id": "db103a71",
   "metadata": {},
   "outputs": [
    {
     "name": "stderr",
     "output_type": "stream",
     "text": [
      "c:\\Users\\srina\\OneDrive\\Desktop\\GenAI_code\\ConditionalGraph\\.venv\\Lib\\site-packages\\google\\auth\\_default.py:76: UserWarning: Your application has authenticated using end user credentials from Google Cloud SDK without a quota project. You might receive a \"quota exceeded\" or \"API not enabled\" error. See the following page for troubleshooting: https://cloud.google.com/docs/authentication/adc-troubleshooting/user-creds. \n",
      "  warnings.warn(_CLOUD_SDK_CREDENTIALS_WARNING)\n",
      "c:\\Users\\srina\\OneDrive\\Desktop\\GenAI_code\\ConditionalGraph\\.venv\\Lib\\site-packages\\google\\auth\\_default.py:76: UserWarning: Your application has authenticated using end user credentials from Google Cloud SDK without a quota project. You might receive a \"quota exceeded\" or \"API not enabled\" error. See the following page for troubleshooting: https://cloud.google.com/docs/authentication/adc-troubleshooting/user-creds. \n",
      "  warnings.warn(_CLOUD_SDK_CREDENTIALS_WARNING)\n"
     ]
    },
    {
     "data": {
      "text/plain": [
       "AIMessage(content=\"Apple's headquarters, often referred to as Apple Park, is located in **Cupertino, California, USA**.\\n\", additional_kwargs={}, response_metadata={'is_blocked': False, 'safety_ratings': [], 'usage_metadata': {'prompt_token_count': 5, 'candidates_token_count': 24, 'total_token_count': 29, 'prompt_tokens_details': [{'modality': 1, 'token_count': 5}], 'candidates_tokens_details': [{'modality': 1, 'token_count': 24}], 'thoughts_token_count': 0, 'cached_content_token_count': 0, 'cache_tokens_details': []}, 'finish_reason': 'STOP', 'avg_logprobs': -0.20599464575449625, 'model_name': 'gemini-2.0-flash-lite-001'}, id='run--50d3d00f-be28-467d-8500-03452bc35df9-0', usage_metadata={'input_tokens': 5, 'output_tokens': 24, 'total_tokens': 29})"
      ]
     },
     "execution_count": 8,
     "metadata": {},
     "output_type": "execute_result"
    }
   ],
   "source": [
    "from langgraph.graph import StateGraph, START, END\n",
    "from langchain.chat_models import init_chat_model\n",
    "gemini_llm = init_chat_model(model=\"gemini-2.0-flash-lite-001\",model_provider=\"google_vertexai\")\n",
    "gemini_llm.invoke(\"where is Apply headquarters located\")\n"
   ]
  },
  {
   "cell_type": "code",
   "execution_count": 1,
   "id": "e995d897",
   "metadata": {},
   "outputs": [],
   "source": [
    "from langgraph.graph import MessagesState\n",
    "from langchain.tools import tool"
   ]
  },
  {
   "cell_type": "code",
   "execution_count": 3,
   "id": "a45b9ac0",
   "metadata": {},
   "outputs": [],
   "source": [
    "@tool(\"addition\", parse_docstring=True, return_direct=True)\n",
    "def add(a: int, b: int) -> int:\n",
    "    \"\"\"Addition of two numbers\n",
    "\n",
    "    Args:\n",
    "      a : number\n",
    "      b : number\n",
    "\n",
    "    \"\"\"\n",
    "    return a + b"
   ]
  },
  {
   "cell_type": "code",
   "execution_count": 4,
   "id": "dec722fa",
   "metadata": {},
   "outputs": [],
   "source": [
    "@tool(\"multipy\", parse_docstring=True, return_direct=True)\n",
    "def mul(a: int, b: int) -> int:\n",
    "    \"\"\"Multiplication of two numbers\n",
    "\n",
    "    Args:\n",
    "      a : number\n",
    "      b : number\n",
    "\n",
    "    \"\"\"\n",
    "    return a * b"
   ]
  },
  {
   "cell_type": "code",
   "execution_count": 6,
   "id": "79cb17ab",
   "metadata": {},
   "outputs": [],
   "source": [
    "@tool(\"divide\", parse_docstring=True, return_direct=True)\n",
    "def div(a: int, b: int) -> int:\n",
    "    \"\"\"division of two numbers\n",
    "\n",
    "    Args:\n",
    "      a : number\n",
    "      b : number\n",
    "\n",
    "    \"\"\"\n",
    "    return a // b"
   ]
  },
  {
   "cell_type": "code",
   "execution_count": 2,
   "id": "366f608e",
   "metadata": {},
   "outputs": [],
   "source": [
    "@tool(\"subtraction\", parse_docstring=True, return_direct=True)\n",
    "def sub(a: int, b: int) -> int:\n",
    "    \"\"\"Subtract two numbers\n",
    "\n",
    "    Args:\n",
    "      a : number\n",
    "      b : number\n",
    "\n",
    "    \"\"\"\n",
    "    return a - b"
   ]
  },
  {
   "cell_type": "code",
   "execution_count": 18,
   "id": "4493c9d4",
   "metadata": {},
   "outputs": [],
   "source": [
    "gemini_llm_with_tools = gemini_llm.bind_tools([add])"
   ]
  },
  {
   "cell_type": "code",
   "execution_count": 19,
   "id": "a840644e",
   "metadata": {},
   "outputs": [
    {
     "data": {
      "text/plain": [
       "AIMessage(content='', additional_kwargs={'function_call': {'name': 'add', 'arguments': '{\"a\": 2.0, \"b\": 2.0}'}}, response_metadata={'is_blocked': False, 'safety_ratings': [], 'usage_metadata': {'prompt_token_count': 34, 'candidates_token_count': 5, 'total_token_count': 39, 'prompt_tokens_details': [{'modality': 1, 'token_count': 34}], 'candidates_tokens_details': [{'modality': 1, 'token_count': 5}], 'thoughts_token_count': 0, 'cached_content_token_count': 0, 'cache_tokens_details': []}, 'finish_reason': 'STOP', 'avg_logprobs': -0.007441814243793488, 'model_name': 'gemini-2.0-flash-lite-001'}, id='run--ec907868-25cf-4ddc-b0d2-1fb1ee83d47b-0', tool_calls=[{'name': 'add', 'args': {'a': 2.0, 'b': 2.0}, 'id': '648ad77b-f4cf-4914-ba40-6b5cffdba98d', 'type': 'tool_call'}], usage_metadata={'input_tokens': 34, 'output_tokens': 5, 'total_tokens': 39})"
      ]
     },
     "execution_count": 19,
     "metadata": {},
     "output_type": "execute_result"
    }
   ],
   "source": [
    "result = gemini_llm_with_tools.invoke(\"what is 2 plus 2?\")\n",
    "result"
   ]
  },
  {
   "cell_type": "code",
   "execution_count": 20,
   "id": "bc72ef04",
   "metadata": {},
   "outputs": [
    {
     "data": {
      "text/plain": [
       "AIMessage(content='I am sorry, I cannot fulfill this request. The available tools lack the desired functionality.', additional_kwargs={}, response_metadata={'is_blocked': False, 'safety_ratings': [], 'usage_metadata': {'prompt_token_count': 32, 'candidates_token_count': 18, 'total_token_count': 50, 'prompt_tokens_details': [{'modality': 1, 'token_count': 32}], 'candidates_tokens_details': [{'modality': 1, 'token_count': 18}], 'thoughts_token_count': 0, 'cached_content_token_count': 0, 'cache_tokens_details': []}, 'finish_reason': 'STOP', 'avg_logprobs': -0.01729025277826521, 'model_name': 'gemini-2.0-flash-lite-001'}, id='run--e48300c8-a3ed-4723-956b-2125e066fdc1-0', usage_metadata={'input_tokens': 32, 'output_tokens': 18, 'total_tokens': 50})"
      ]
     },
     "execution_count": 20,
     "metadata": {},
     "output_type": "execute_result"
    }
   ],
   "source": [
    "result = gemini_llm_with_tools.invoke(\"what is capital of india?\")\n",
    "result"
   ]
  },
  {
   "cell_type": "code",
   "execution_count": 9,
   "id": "83cd894b",
   "metadata": {},
   "outputs": [],
   "source": [
    "gemini_llm = init_chat_model(model=\"gemini-2.0-flash-lite-001\", model_provider=\"google_vertexai\")\n",
    "from langgraph.prebuilt import ToolNode\n",
    "toolnode = ToolNode([add, sub, mul, div])\n",
    "gemini_llm_with_tools = gemini_llm.bind_tools([add, sub, mul, div])\n",
    "def call_model(state: MessagesState) -> MessagesState:\n",
    "    state['messages'] = gemini_llm_with_tools.invoke(state['messages'])\n",
    "    return state"
   ]
  },
  {
   "cell_type": "code",
   "execution_count": 11,
   "id": "f42ccf86",
   "metadata": {},
   "outputs": [],
   "source": [
    "tool_graph_builder: StateGraph = StateGraph(MessagesState)\n",
    "tool_graph_builder.add_node(\"llm\", call_model)\n",
    "tool_graph_builder.add_node(\"tools\", toolnode)\n",
    "tool_graph_builder.add_edge(START, \"llm\")\n",
    "tool_graph_builder.add_edge(\"llm\", \"tools\")\n",
    "tool_graph_builder.add_edge(\"tools\", END)\n",
    "\n",
    "tools_graph = tool_graph_builder.compile()"
   ]
  },
  {
   "cell_type": "code",
   "execution_count": 13,
   "id": "7ea5e05f",
   "metadata": {},
   "outputs": [
    {
     "data": {
      "text/plain": [
       "{'messages': [HumanMessage(content='What is 2 * 5 ?', additional_kwargs={}, response_metadata={}, id='86c73852-b6bc-4758-9675-cb6ae87b84d6'),\n",
       "  AIMessage(content='', additional_kwargs={'function_call': {'name': 'multipy', 'arguments': '{\"a\": 2.0, \"b\": 5.0}'}}, response_metadata={'is_blocked': False, 'safety_ratings': [], 'usage_metadata': {'prompt_token_count': 65, 'candidates_token_count': 6, 'total_token_count': 71, 'prompt_tokens_details': [{'modality': 1, 'token_count': 65}], 'candidates_tokens_details': [{'modality': 1, 'token_count': 6}], 'thoughts_token_count': 0, 'cached_content_token_count': 0, 'cache_tokens_details': []}, 'finish_reason': 'STOP', 'avg_logprobs': -9.904357527072231e-05, 'model_name': 'gemini-2.0-flash-lite-001'}, id='run--389eeee5-b60e-4d47-af92-ae568d610503-0', tool_calls=[{'name': 'multipy', 'args': {'a': 2.0, 'b': 5.0}, 'id': '458154c1-e311-4334-9e01-3ca075caf929', 'type': 'tool_call'}], usage_metadata={'input_tokens': 65, 'output_tokens': 6, 'total_tokens': 71}),\n",
       "  ToolMessage(content='10', name='multipy', id='a1abf608-ca42-42cb-bb75-b01349f10336', tool_call_id='458154c1-e311-4334-9e01-3ca075caf929')]}"
      ]
     },
     "execution_count": 13,
     "metadata": {},
     "output_type": "execute_result"
    }
   ],
   "source": [
    "result = tools_graph.invoke({ \"messages\": \"What is 2 * 5 ?\" })\n",
    "result"
   ]
  },
  {
   "cell_type": "code",
   "execution_count": 14,
   "id": "caa2c7b2",
   "metadata": {},
   "outputs": [
    {
     "data": {
      "text/plain": [
       "{'messages': [HumanMessage(content='I have 5 pens, now i purchase 3 more. How many pens do i have ?', additional_kwargs={}, response_metadata={}, id='fa762e62-f4c6-4623-b94d-dd3c03ba018a'),\n",
       "  AIMessage(content='', additional_kwargs={'function_call': {'name': 'addition', 'arguments': '{\"a\": 5.0, \"b\": 3.0}'}}, response_metadata={'is_blocked': False, 'safety_ratings': [], 'usage_metadata': {'prompt_token_count': 77, 'candidates_token_count': 5, 'total_token_count': 82, 'prompt_tokens_details': [{'modality': 1, 'token_count': 77}], 'candidates_tokens_details': [{'modality': 1, 'token_count': 5}], 'thoughts_token_count': 0, 'cached_content_token_count': 0, 'cache_tokens_details': []}, 'finish_reason': 'STOP', 'avg_logprobs': -0.0003762520384043455, 'model_name': 'gemini-2.0-flash-lite-001'}, id='run--b019261a-72be-4dcf-9cbc-640259ebc32a-0', tool_calls=[{'name': 'addition', 'args': {'a': 5.0, 'b': 3.0}, 'id': '090ff30c-edcc-407f-9c56-14ca454e2785', 'type': 'tool_call'}], usage_metadata={'input_tokens': 77, 'output_tokens': 5, 'total_tokens': 82}),\n",
       "  ToolMessage(content='8', name='addition', id='a795e36e-8613-4feb-b7bf-09c8a7663839', tool_call_id='090ff30c-edcc-407f-9c56-14ca454e2785')]}"
      ]
     },
     "execution_count": 14,
     "metadata": {},
     "output_type": "execute_result"
    }
   ],
   "source": [
    "result = tools_graph.invoke({ \"messages\": \"I have 5 pens, now i purchase 3 more. How many pens do i have ?\" })\n",
    "result"
   ]
  },
  {
   "cell_type": "code",
   "execution_count": 15,
   "id": "1bc48f16",
   "metadata": {},
   "outputs": [
    {
     "data": {
      "text/plain": [
       "{'messages': [HumanMessage(content='I have 5 pens, now i lost 3 . How many pens do i have ?', additional_kwargs={}, response_metadata={}, id='40adfb72-5484-47f9-9ffd-5104cc4466f5'),\n",
       "  AIMessage(content='', additional_kwargs={'function_call': {'name': 'subtraction', 'arguments': '{\"a\": 5.0, \"b\": 3.0}'}}, response_metadata={'is_blocked': False, 'safety_ratings': [], 'usage_metadata': {'prompt_token_count': 76, 'candidates_token_count': 6, 'total_token_count': 82, 'prompt_tokens_details': [{'modality': 1, 'token_count': 76}], 'candidates_tokens_details': [{'modality': 1, 'token_count': 6}], 'thoughts_token_count': 0, 'cached_content_token_count': 0, 'cache_tokens_details': []}, 'finish_reason': 'STOP', 'avg_logprobs': -0.0819424440463384, 'model_name': 'gemini-2.0-flash-lite-001'}, id='run--0cb8589e-12d9-44cc-9eb1-1348309ec8bf-0', tool_calls=[{'name': 'subtraction', 'args': {'a': 5.0, 'b': 3.0}, 'id': 'df90de78-650c-428f-9f2e-972c3a4d5901', 'type': 'tool_call'}], usage_metadata={'input_tokens': 76, 'output_tokens': 6, 'total_tokens': 82}),\n",
       "  ToolMessage(content='2', name='subtraction', id='a63450ff-94e9-4ab2-8fa6-247c26c4725e', tool_call_id='df90de78-650c-428f-9f2e-972c3a4d5901')]}"
      ]
     },
     "execution_count": 15,
     "metadata": {},
     "output_type": "execute_result"
    }
   ],
   "source": [
    "result = tools_graph.invoke({ \"messages\": \"I have 5 pens, now i lost 3 . How many pens do i have ?\" })\n",
    "result\n"
   ]
  }
 ],
 "metadata": {
  "kernelspec": {
   "display_name": ".venv",
   "language": "python",
   "name": "python3"
  },
  "language_info": {
   "codemirror_mode": {
    "name": "ipython",
    "version": 3
   },
   "file_extension": ".py",
   "mimetype": "text/x-python",
   "name": "python",
   "nbconvert_exporter": "python",
   "pygments_lexer": "ipython3",
   "version": "3.11.0"
  }
 },
 "nbformat": 4,
 "nbformat_minor": 5
}
