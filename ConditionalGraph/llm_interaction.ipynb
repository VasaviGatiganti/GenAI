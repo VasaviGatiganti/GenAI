{
 "cells": [
  {
   "cell_type": "code",
   "execution_count": 1,
   "id": "7c71b248",
   "metadata": {},
   "outputs": [
    {
     "name": "stdout",
     "output_type": "stream",
     "text": [
      "Requirement already satisfied: langchain-core in c:\\users\\srina\\onedrive\\desktop\\genai_code\\conditionalgraph\\.venv\\lib\\site-packages (0.3.60)\n",
      "Requirement already satisfied: langchain in c:\\users\\srina\\onedrive\\desktop\\genai_code\\conditionalgraph\\.venv\\lib\\site-packages (0.3.25)\n",
      "Requirement already satisfied: langsmith<0.4,>=0.1.126 in c:\\users\\srina\\onedrive\\desktop\\genai_code\\conditionalgraph\\.venv\\lib\\site-packages (from langchain-core) (0.3.42)\n",
      "Requirement already satisfied: tenacity!=8.4.0,<10.0.0,>=8.1.0 in c:\\users\\srina\\onedrive\\desktop\\genai_code\\conditionalgraph\\.venv\\lib\\site-packages (from langchain-core) (9.1.2)\n",
      "Requirement already satisfied: jsonpatch<2.0,>=1.33 in c:\\users\\srina\\onedrive\\desktop\\genai_code\\conditionalgraph\\.venv\\lib\\site-packages (from langchain-core) (1.33)\n",
      "Requirement already satisfied: PyYAML>=5.3 in c:\\users\\srina\\onedrive\\desktop\\genai_code\\conditionalgraph\\.venv\\lib\\site-packages (from langchain-core) (6.0.2)\n",
      "Requirement already satisfied: packaging<25,>=23.2 in c:\\users\\srina\\onedrive\\desktop\\genai_code\\conditionalgraph\\.venv\\lib\\site-packages (from langchain-core) (24.2)\n",
      "Requirement already satisfied: typing-extensions>=4.7 in c:\\users\\srina\\onedrive\\desktop\\genai_code\\conditionalgraph\\.venv\\lib\\site-packages (from langchain-core) (4.13.2)\n",
      "Requirement already satisfied: pydantic>=2.7.4 in c:\\users\\srina\\onedrive\\desktop\\genai_code\\conditionalgraph\\.venv\\lib\\site-packages (from langchain-core) (2.11.4)\n",
      "Requirement already satisfied: langchain-text-splitters<1.0.0,>=0.3.8 in c:\\users\\srina\\onedrive\\desktop\\genai_code\\conditionalgraph\\.venv\\lib\\site-packages (from langchain) (0.3.8)\n",
      "Requirement already satisfied: SQLAlchemy<3,>=1.4 in c:\\users\\srina\\onedrive\\desktop\\genai_code\\conditionalgraph\\.venv\\lib\\site-packages (from langchain) (2.0.41)\n",
      "Requirement already satisfied: requests<3,>=2 in c:\\users\\srina\\onedrive\\desktop\\genai_code\\conditionalgraph\\.venv\\lib\\site-packages (from langchain) (2.32.3)\n",
      "Requirement already satisfied: jsonpointer>=1.9 in c:\\users\\srina\\onedrive\\desktop\\genai_code\\conditionalgraph\\.venv\\lib\\site-packages (from jsonpatch<2.0,>=1.33->langchain-core) (3.0.0)\n",
      "Requirement already satisfied: httpx<1,>=0.23.0 in c:\\users\\srina\\onedrive\\desktop\\genai_code\\conditionalgraph\\.venv\\lib\\site-packages (from langsmith<0.4,>=0.1.126->langchain-core) (0.28.1)\n",
      "Requirement already satisfied: orjson<4.0.0,>=3.9.14 in c:\\users\\srina\\onedrive\\desktop\\genai_code\\conditionalgraph\\.venv\\lib\\site-packages (from langsmith<0.4,>=0.1.126->langchain-core) (3.10.18)\n",
      "Requirement already satisfied: requests-toolbelt<2.0.0,>=1.0.0 in c:\\users\\srina\\onedrive\\desktop\\genai_code\\conditionalgraph\\.venv\\lib\\site-packages (from langsmith<0.4,>=0.1.126->langchain-core) (1.0.0)\n",
      "Requirement already satisfied: zstandard<0.24.0,>=0.23.0 in c:\\users\\srina\\onedrive\\desktop\\genai_code\\conditionalgraph\\.venv\\lib\\site-packages (from langsmith<0.4,>=0.1.126->langchain-core) (0.23.0)\n",
      "Requirement already satisfied: annotated-types>=0.6.0 in c:\\users\\srina\\onedrive\\desktop\\genai_code\\conditionalgraph\\.venv\\lib\\site-packages (from pydantic>=2.7.4->langchain-core) (0.7.0)\n",
      "Requirement already satisfied: pydantic-core==2.33.2 in c:\\users\\srina\\onedrive\\desktop\\genai_code\\conditionalgraph\\.venv\\lib\\site-packages (from pydantic>=2.7.4->langchain-core) (2.33.2)\n",
      "Requirement already satisfied: typing-inspection>=0.4.0 in c:\\users\\srina\\onedrive\\desktop\\genai_code\\conditionalgraph\\.venv\\lib\\site-packages (from pydantic>=2.7.4->langchain-core) (0.4.1)\n",
      "Requirement already satisfied: charset-normalizer<4,>=2 in c:\\users\\srina\\onedrive\\desktop\\genai_code\\conditionalgraph\\.venv\\lib\\site-packages (from requests<3,>=2->langchain) (3.4.2)\n",
      "Requirement already satisfied: idna<4,>=2.5 in c:\\users\\srina\\onedrive\\desktop\\genai_code\\conditionalgraph\\.venv\\lib\\site-packages (from requests<3,>=2->langchain) (3.10)\n",
      "Requirement already satisfied: urllib3<3,>=1.21.1 in c:\\users\\srina\\onedrive\\desktop\\genai_code\\conditionalgraph\\.venv\\lib\\site-packages (from requests<3,>=2->langchain) (2.4.0)\n",
      "Requirement already satisfied: certifi>=2017.4.17 in c:\\users\\srina\\onedrive\\desktop\\genai_code\\conditionalgraph\\.venv\\lib\\site-packages (from requests<3,>=2->langchain) (2025.4.26)\n",
      "Requirement already satisfied: greenlet>=1 in c:\\users\\srina\\onedrive\\desktop\\genai_code\\conditionalgraph\\.venv\\lib\\site-packages (from SQLAlchemy<3,>=1.4->langchain) (3.2.2)\n",
      "Requirement already satisfied: anyio in c:\\users\\srina\\onedrive\\desktop\\genai_code\\conditionalgraph\\.venv\\lib\\site-packages (from httpx<1,>=0.23.0->langsmith<0.4,>=0.1.126->langchain-core) (4.9.0)\n",
      "Requirement already satisfied: httpcore==1.* in c:\\users\\srina\\onedrive\\desktop\\genai_code\\conditionalgraph\\.venv\\lib\\site-packages (from httpx<1,>=0.23.0->langsmith<0.4,>=0.1.126->langchain-core) (1.0.9)\n",
      "Requirement already satisfied: h11>=0.16 in c:\\users\\srina\\onedrive\\desktop\\genai_code\\conditionalgraph\\.venv\\lib\\site-packages (from httpcore==1.*->httpx<1,>=0.23.0->langsmith<0.4,>=0.1.126->langchain-core) (0.16.0)\n",
      "Requirement already satisfied: sniffio>=1.1 in c:\\users\\srina\\onedrive\\desktop\\genai_code\\conditionalgraph\\.venv\\lib\\site-packages (from anyio->httpx<1,>=0.23.0->langsmith<0.4,>=0.1.126->langchain-core) (1.3.1)\n",
      "Note: you may need to restart the kernel to use updated packages.\n"
     ]
    },
    {
     "name": "stderr",
     "output_type": "stream",
     "text": [
      "\n",
      "[notice] A new release of pip available: 22.3 -> 25.1.1\n",
      "[notice] To update, run: python.exe -m pip install --upgrade pip\n"
     ]
    }
   ],
   "source": [
    "%pip install langchain-core langchain"
   ]
  },
  {
   "cell_type": "code",
   "execution_count": 1,
   "id": "c322a68f",
   "metadata": {},
   "outputs": [],
   "source": [
    "model_id=\"gemini-2.0-flash-lite-001\""
   ]
  },
  {
   "cell_type": "code",
   "execution_count": 18,
   "id": "8e3e2228",
   "metadata": {},
   "outputs": [
    {
     "name": "stdout",
     "output_type": "stream",
     "text": [
      "Note: you may need to restart the kernel to use updated packages.\n"
     ]
    },
    {
     "name": "stderr",
     "output_type": "stream",
     "text": [
      "\n",
      "[notice] A new release of pip available: 22.3 -> 25.1.1\n",
      "[notice] To update, run: python.exe -m pip install --upgrade pip\n"
     ]
    }
   ],
   "source": [
    "%pip install -qU  \"langchain[google-vertexai]\""
   ]
  },
  {
   "cell_type": "code",
   "execution_count": 2,
   "id": "41b528a2",
   "metadata": {},
   "outputs": [],
   "source": [
    "from langchain_core.messages import HumanMessage"
   ]
  },
  {
   "cell_type": "code",
   "execution_count": 3,
   "id": "507790e2",
   "metadata": {},
   "outputs": [],
   "source": [
    "messages = [HumanMessage(\"what is inertia\")]"
   ]
  },
  {
   "cell_type": "code",
   "execution_count": 4,
   "id": "8283c17d",
   "metadata": {},
   "outputs": [],
   "source": [
    "from langchain.chat_models import init_chat_model"
   ]
  },
  {
   "cell_type": "code",
   "execution_count": 6,
   "id": "5c062215",
   "metadata": {},
   "outputs": [],
   "source": [
    "llm = init_chat_model(model = model_id,model_provider=\"google_vertexai\")"
   ]
  },
  {
   "cell_type": "code",
   "execution_count": 9,
   "id": "9ddd902b",
   "metadata": {},
   "outputs": [],
   "source": [
    "response = llm.invoke(messages)"
   ]
  },
  {
   "cell_type": "code",
   "execution_count": 10,
   "id": "4b4735ff",
   "metadata": {},
   "outputs": [
    {
     "data": {
      "text/plain": [
       "AIMessage(content=\"Inertia is the tendency of an object to resist changes in its state of motion. In simpler terms, it's the property of an object that makes it stay in the same way it's already moving (or not moving at all) unless acted upon by a force.\\n\\nHere's a breakdown:\\n\\n*   **Objects at rest stay at rest:** An object that isn't moving will remain at rest unless a force makes it move. Think of a book sitting on a table. It won't move unless you push it, the table collapses, etc.\\n*   **Objects in motion stay in motion:** An object that is moving will continue to move at a constant velocity (same speed and direction) unless a force acts on it. Think of a hockey puck gliding across the ice (ignoring friction for simplicity). It'll keep gliding until it hits something or friction slows it down.\\n\\n**Key takeaways:**\\n\\n*   **Mass and Inertia:** Inertia is directly related to an object's mass. The more massive an object, the more inertia it has, and the harder it is to change its state of motion. A large boulder has much more inertia than a small pebble.\\n*   **Newton's First Law:** Inertia is essentially Newton's First Law of Motion (the Law of Inertia).\\n*   **Examples:**\\n    *   **Seatbelts:** Seatbelts work because of inertia. When a car suddenly stops, your body wants to keep moving forward. The seatbelt applies a force to counteract this inertia and prevent you from being thrown forward.\\n    *   **Riding a bicycle:** It takes effort to start a bike moving (overcoming inertia), but it's easier to keep it moving once it's in motion (inertia at work).\\n    *   **A ball on a string:** Swirling a ball on a string around your hand. When you let go of the string the ball will fly off in a straight line. This is a result of the ball being in motion and therefore continuing to move in the same direction.\\n\", additional_kwargs={}, response_metadata={'is_blocked': False, 'safety_ratings': [], 'usage_metadata': {'prompt_token_count': 3, 'candidates_token_count': 430, 'total_token_count': 433, 'prompt_tokens_details': [{'modality': 1, 'token_count': 3}], 'candidates_tokens_details': [{'modality': 1, 'token_count': 430}], 'thoughts_token_count': 0, 'cached_content_token_count': 0, 'cache_tokens_details': []}, 'finish_reason': 'STOP', 'avg_logprobs': -0.4141216189362282, 'model_name': 'gemini-2.0-flash-lite-001'}, id='run--570ee8e0-d0b9-429e-990b-ecba009609c8-0', usage_metadata={'input_tokens': 3, 'output_tokens': 430, 'total_tokens': 433})"
      ]
     },
     "execution_count": 10,
     "metadata": {},
     "output_type": "execute_result"
    }
   ],
   "source": [
    "response"
   ]
  },
  {
   "cell_type": "code",
   "execution_count": 12,
   "id": "4ccf9776",
   "metadata": {},
   "outputs": [
    {
     "name": "stdout",
     "output_type": "stream",
     "text": [
      "Inertia is the tendency of an object to resist changes in its state of motion. In simpler terms, it's the property of an object that makes it stay in the same way it's already moving (or not moving at all) unless acted upon by a force.\n",
      "\n",
      "Here's a breakdown:\n",
      "\n",
      "*   **Objects at rest stay at rest:** An object that isn't moving will remain at rest unless a force makes it move. Think of a book sitting on a table. It won't move unless you push it, the table collapses, etc.\n",
      "*   **Objects in motion stay in motion:** An object that is moving will continue to move at a constant velocity (same speed and direction) unless a force acts on it. Think of a hockey puck gliding across the ice (ignoring friction for simplicity). It'll keep gliding until it hits something or friction slows it down.\n",
      "\n",
      "**Key takeaways:**\n",
      "\n",
      "*   **Mass and Inertia:** Inertia is directly related to an object's mass. The more massive an object, the more inertia it has, and the harder it is to change its state of motion. A large boulder has much more inertia than a small pebble.\n",
      "*   **Newton's First Law:** Inertia is essentially Newton's First Law of Motion (the Law of Inertia).\n",
      "*   **Examples:**\n",
      "    *   **Seatbelts:** Seatbelts work because of inertia. When a car suddenly stops, your body wants to keep moving forward. The seatbelt applies a force to counteract this inertia and prevent you from being thrown forward.\n",
      "    *   **Riding a bicycle:** It takes effort to start a bike moving (overcoming inertia), but it's easier to keep it moving once it's in motion (inertia at work).\n",
      "    *   **A ball on a string:** Swirling a ball on a string around your hand. When you let go of the string the ball will fly off in a straight line. This is a result of the ball being in motion and therefore continuing to move in the same direction.\n",
      "\n"
     ]
    }
   ],
   "source": [
    "print(response.content)"
   ]
  }
 ],
 "metadata": {
  "kernelspec": {
   "display_name": ".venv",
   "language": "python",
   "name": "python3"
  },
  "language_info": {
   "codemirror_mode": {
    "name": "ipython",
    "version": 3
   },
   "file_extension": ".py",
   "mimetype": "text/x-python",
   "name": "python",
   "nbconvert_exporter": "python",
   "pygments_lexer": "ipython3",
   "version": "3.11.0"
  }
 },
 "nbformat": 4,
 "nbformat_minor": 5
}
