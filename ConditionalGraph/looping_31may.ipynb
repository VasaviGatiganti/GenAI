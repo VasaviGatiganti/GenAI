{
 "cells": [
  {
   "cell_type": "code",
   "execution_count": 2,
   "id": "49e4d5d5",
   "metadata": {},
   "outputs": [],
   "source": [
    "from langgraph.graph import StateGraph, START, END\n",
    "from typing import TypedDict, Literal"
   ]
  },
  {
   "cell_type": "code",
   "execution_count": 3,
   "id": "47618082",
   "metadata": {},
   "outputs": [],
   "source": [
    "class GuessState(TypedDict):\n",
    "    guess:int\n",
    "    answer:int\n",
    "    count:int\n",
    "    min:int\n",
    "    max:int\n",
    "    result: Literal[\"won\",\"Lost\"]"
   ]
  },
  {
   "cell_type": "code",
   "execution_count": 5,
   "id": "e9886ff5",
   "metadata": {},
   "outputs": [],
   "source": [
    "from random import randint\n",
    "def pick(state: GuessState) -> GuessState:\n",
    "    if state['count'] == None:\n",
    "        state['count'] = 1\n",
    "    else:\n",
    "        state['count'] += 1\n",
    "    state['answer'] = randint(1,10)\n",
    "    return state\n",
    "    \n"
   ]
  },
  {
   "cell_type": "code",
   "execution_count": 6,
   "id": "0c3a8340",
   "metadata": {},
   "outputs": [],
   "source": [
    "def announce(state: GuessState) -> GuessState:\n",
    "    if state['answer'] == state['guess']:\n",
    "       state['result'] = \"won\"\n",
    "    return state"
   ]
  },
  {
   "cell_type": "code",
   "execution_count": 10,
   "id": "c696240c",
   "metadata": {},
   "outputs": [],
   "source": [
    "from typing import Literal\n",
    "def should_continue(state: GuessState) -> Literal[\"exit\", \"continue\"]:\n",
    "    if state[\"count\"] == 5:\n",
    "        return \"exit\"\n",
    "    if state[\"answer\"] == state[\"guess\"]:\n",
    "        return \"exit\"\n",
    "    return \"continue\""
   ]
  },
  {
   "cell_type": "code",
   "execution_count": 12,
   "id": "bd142482",
   "metadata": {},
   "outputs": [],
   "source": [
    "graph_builer: StateGraph = StateGraph(GuessState)\n",
    "graph_builer.add_node(\"pickanswer\", pick)\n",
    "graph_builer.add_edge(START, \"pickanswer\")\n",
    "graph_builer.add_node(\"results\",announce)\n",
    "graph_builer.add_edge(\"results\", END)\n",
    "graph_builer.add_conditional_edges(\n",
    "    \"pickanswer\",\n",
    "    should_continue,\n",
    "    {\n",
    "        \"exit\": \"results\",\n",
    "        \"continue\": \"pickanswer\"\n",
    "    }\n",
    ")\n",
    "guess_graph = graph_builer.compile()"
   ]
  },
  {
   "cell_type": "code",
   "execution_count": 13,
   "id": "d86342c6",
   "metadata": {},
   "outputs": [
    {
     "name": "stdout",
     "output_type": "stream",
     "text": [
      "{'guess': 4, 'answer': 1, 'count': 5, 'min': 0, 'max': 10, 'result': 'lost'}\n"
     ]
    }
   ],
   "source": [
    "result = guess_graph.invoke(GuessState(guess=4, count=0, min=0, max=10, result=\"lost\"))\n",
    "print(result)"
   ]
  }
 ],
 "metadata": {
  "kernelspec": {
   "display_name": ".venv",
   "language": "python",
   "name": "python3"
  },
  "language_info": {
   "codemirror_mode": {
    "name": "ipython",
    "version": 3
   },
   "file_extension": ".py",
   "mimetype": "text/x-python",
   "name": "python",
   "nbconvert_exporter": "python",
   "pygments_lexer": "ipython3",
   "version": "3.11.0"
  }
 },
 "nbformat": 4,
 "nbformat_minor": 5
}
